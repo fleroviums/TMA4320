{
 "cells": [
  {
   "cell_type": "markdown",
   "metadata": {},
   "source": [
    "# Øving 1, TMA4320\n",
    "\n",
    "* **Veiledning:** Torsdag 9. januar, 0815-1000 i H3\n",
    "* **Innleveringsfrist:** Torsdag 16. januar, kl 1400\n",
    "* **Innleveringsmetode** Følgende to krav er nødvendig for godkjenning\n",
    "    1. Opplasting av Jupyter Notebook (individuelt) i Blackboard\n",
    "    2. Svare på skjema med kontrollspørsmål under Øving 1 i Blackboard\n",
    "\n",
    "\n",
    "Vi skal gjøre en liten oppvarming med bruk av Jupyter Notebooks, men med lite teori siden vi ennå ikke har kommet ordentlig i gang. \n",
    "\n",
    "**Oppgave 0.**\n",
    "Hvis du har installert Anaconda på din PC og har testet ut Jupyter Notebook, så trenger du ikke gjøre de første to punktene av denne oppgaven. I motsatt fall regner jeg med at du leser denne teksten som en webside (.html), og må da gjøre følgende for å kunne laste opp Øving 1.ipynb i Jupyter Notebook.\n",
    "* Last ned og installer Anaconda på din PC, f.eks. fra [https://www.anaconda.com/download](https://www.anaconda.com/download \"Lenke\").\n",
    "* Start Anaconda-applikasjonen, og klikk på \"launch\" i Jupyter Notebook boksen.\n",
    "* Lagre filen \"Øving 1.ipynb\" fra Blackboard, og last den opp i Jupyter Notebook\n",
    "* Gjør de andre oppgavene nedenfor ved å redigere denne filen, og lagre sluttresultatet\n",
    "* Din ferdiglagede Notebook lastes så opp som svar på Øving 1\n",
    "* I tillegg skal du forøvrig svare på tre kontrollspørsmål på et eget skjema i Blackboard. Spørsmålene finner du lenger ned i øvingen.\n",
    "\n",
    "Jupyter Notebook har ulike typer *celler* eller avsnitt. Det du ser på nå er en såkalt Markdown-celle som brukes til å skrive tekst og formler. Markdownspråket er veldig enkelt å bruke og en kjapp innføring finner du\n",
    "[her](https://daringfireball.net/projects/markdown/syntax#list \"Markdown guide\"). \n",
    "\n",
    "En annen celletype er \"Code\". Vi inkluderer en slik rett nedenfor der vi importerer et bibliotek som heter *numpy* (med alias np).\n"
   ]
  },
  {
   "cell_type": "code",
   "execution_count": null,
   "metadata": {},
   "outputs": [],
   "source": [
    "import numpy as np"
   ]
  },
  {
   "cell_type": "markdown",
   "metadata": {},
   "source": [
    "Merk at man utfører kode ved å taste Shift+Enter inne i en celle.\n",
    "\n",
    "Å sette inn nye celler under eller over en annen celle gjøres enkelt ved velge \"Insert\" i menyen. Default celletype blir \"Code\", men du kan endre denne i rullgardinmenyen hvor det står \"Code\"."
   ]
  },
  {
   "cell_type": "markdown",
   "metadata": {},
   "source": [
    "**Oppgave 1.** Et Python-bibliotek du skal bruke mye i dette kurset er *numpy*-biblioteket og vi har allerede vist hvordan du importerer dette. I dette biblioteket fins det meste av det du måtte trenge av numeriske metoder.\n",
    "Et annet mye brukt bibliotek er *matplotlib* som kan plotte ulike grafer og figurer. *scipy* er et tredje bibliotek, men du kommer stort sett langt uten dette så lenge du har importert *numpy*.\n",
    "\n",
    "Det fins utmerkede søkbare referansemanualer på nettet, se for eksempel\n",
    "* [numpy](https://docs.scipy.org/doc/numpy/index.html \"Numpy hovedside\")\n",
    "* [matplotlib](https://matplotlib.org/ \"matplotlib\")\n",
    "\n",
    "I denne oppgaven skal du bytte kommentarene med kjørbar python-kode som gjør det kommentaren sier"
   ]
  },
  {
   "cell_type": "code",
   "execution_count": 10,
   "metadata": {},
   "outputs": [
    {
     "name": "stdout",
     "output_type": "stream",
     "text": [
      "[0. 0. 0. 0. 0. 0. 0. 0. 0. 0.]\n",
      "[1. 1. 1. 1. 1. 1. 1. 1. 1. 1.]\n",
      "1.2246467991473532e-16 1.0 0.9999999999999999\n"
     ]
    },
    {
     "data": {
      "image/png": "[encoded data removed]",
      "text/plain": [
       "<Figure size 432x288 with 1 Axes>"
      ]
     },
     "metadata": {
      "needs_background": "light"
     },
     "output_type": "display_data"
    }
   ],
   "source": [
    "import numpy as np\n",
    "import matplotlib.pyplot as plt\n",
    "\n",
    "zerolst, onelst = np.zeros(10), np.ones(10)\n",
    "print (zerolst, onelst, sep='\\n')\n",
    "\n",
    "# Hvis numpy ikke hadde de gitte funksjonene ville det blitt reist feilmelding:\n",
    "pi = np.pi\n",
    "try:\n",
    "    print(np.sin(pi), np.cos(0), np.tan(pi/4))\n",
    "except:\n",
    "    print(\"Noe har gått galt, sannsynligvis er numpy importert feil!\") \n",
    "\n",
    "x = np.linspace(0, 2*pi, 100)\n",
    "xAlt = np.logspace(0, 2*pi, 100)\n",
    "plt.plot(x, np.sin(x))\n",
    "plt.plot(x, np.cos(x))\n",
    "plt.grid()\n",
    "plt.show()"
   ]
  },
  {
   "cell_type": "markdown",
   "metadata": {},
   "source": [
    "**Oppgave 2**\n",
    "\n",
    "La oss forsøke å gjøre noe \"fornuftig\". Så langt har vi i timene lært om intervallhalveringsmetoden, så la oss lage en enkel implementasjon av denne. Vi søker nullpunkter i funksjonen\n",
    "$$\n",
    "f(x) = \\frac12 + \\frac25 x - \\mathrm{e}^{-16x^2}\n",
    "$$\n",
    "\n",
    "**(a)** Start med å plotte å lage en Python-funksjon som definerer $f(x)$ og plott den i intervallet $[-2,2]$.\n",
    "\n",
    "**Kontrollspørsmål 1** Hvor mange nullpunkter har $f(x)$ i dette intervallet sett ut fra grafen?\n"
   ]
  },
  {
   "cell_type": "code",
   "execution_count": 4,
   "metadata": {},
   "outputs": [],
   "source": [
    "# Fyll inn koden for a-spørsmålet her\n",
    "import numpy as np\n",
    "import matplotlib.pyplot as plt\n",
    "\n",
    "# def f(x): osv\n",
    "    \n",
    "# Fyll inn Pythonkode som definerer f(x) angitt ovenfor\n",
    "#\n",
    "# Skriv her kode som plotter funksjonen f(x) mellom -2 og 2 (np.linspace er hendig)"
   ]
  },
  {
   "cell_type": "markdown",
   "metadata": {},
   "source": [
    "**(b)** Skriv en funksjon med navn *inthalv* som tar 4 inputargumenter, de er\n",
    "* $f$: Funksjonen man skal finne nullpunkter av\n",
    "* $a$: Venstre endepunkt i startintervallet\n",
    "* $b$: Høyre endepunkt i startintervallet (må ha $f(a)\\cdot f(b) < 0$)\n",
    "* tol: En toleranse slik at $|r-m|<\\mathrm{tol}$ der $r$ er roten og $m$ er midtpunktet av det siste beregnede intervallet\n",
    "\n",
    "Funksjonen skal returnere midtpunktet $m$ i det sist beregnede intervallet, samt antall halveringer som er gjort.\n",
    "Kjør så funksjonen med $f$ som ovenfor, $a=-1.5$, $b=1.5$, $\\mathrm{tol}=10^{-7}$.\n",
    "\n",
    "**Kontrollspørsmål 2** Er roten du får ut med disse inngangsverdiene større eller mindre enn $0.186134$ ?\n",
    "\n",
    "**Kontrollspørsmål 3** Hvor mange intervallhalveringer bruker funksjonen for å finne svaret?"
   ]
  },
  {
   "cell_type": "code",
   "execution_count": 5,
   "metadata": {},
   "outputs": [],
   "source": [
    "#def inthalv(f,a,b,tol): osv\n",
    "\n",
    "\n",
    "# Skriv kode som definerer input og kaller inthalv her\n"
   ]
  }
 ],
 "metadata": {
  "kernelspec": {
   "display_name": "Python 3",
   "language": "python",
   "name": "python3"
  },
  "language_info": {
   "codemirror_mode": {
    "name": "ipython",
    "version": 3
   },
   "file_extension": ".py",
   "mimetype": "text/x-python",
   "name": "python",
   "nbconvert_exporter": "python",
   "pygments_lexer": "ipython3",
   "version": "3.7.4"
  },
  "toc": {
   "base_numbering": 1,
   "nav_menu": {},
   "number_sections": true,
   "sideBar": true,
   "skip_h1_title": true,
   "title_cell": "Table of Contents",
   "title_sidebar": "Contents",
   "toc_cell": false,
   "toc_position": {},
   "toc_section_display": true,
   "toc_window_display": false
  }
 },
 "nbformat": 4,
 "nbformat_minor": 2
}
