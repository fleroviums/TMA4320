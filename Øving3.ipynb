{
 "cells": [
  {
   "cell_type": "markdown",
   "metadata": {},
   "source": [
    "<div class=\"alert alert-block alert-info\">Oppgave 1A</div>"
   ]
  },
  {
   "cell_type": "markdown",
   "metadata": {},
   "source": [
    "**Oppgave 1a**\n",
    "\n",
    "Penn og papir er for tekfysere\n",
    "\n",
    "$$\n",
    "L_0(x)=\\frac{(x-0.5)(x-1)(x-2)}{(0-0.5)(0-1)(0-2)} \\\\\n",
    "L_1(x)=\\frac{(x)(x-1)(x-2)}{(0.5)(0.5-1)(0.5-2)} \\\\\n",
    "L_2(x)=\\frac{(x)(x-0.5)(x-2)}{(1)(1-0.5)(1-2)} \\\\\n",
    "L_3(x)=\\frac{(x)(x-0.5)(x-1)}{(2)(2-0.5)(2-1)} \\\\\n",
    "$$"
   ]
  },
  {
   "cell_type": "markdown",
   "metadata": {},
   "source": [
    "$$\n",
    " \\begin{array}{|r||r|r|r|r|}\n",
    " \\hline\n",
    " x_i & 0 & \\frac12 & 1 & 2 \\\\ \\hline\n",
    " y_i & 1 & 1 & 2 & 1 \\\\ \\hline\n",
    " \\end{array}\n",
    "$$"
   ]
  },
  {
   "cell_type": "code",
   "execution_count": 27,
   "metadata": {},
   "outputs": [
    {
     "data": {
      "image/png": "[encoded data removed]",
      "text/latex": [
       "$\\displaystyle - 1.0 x^{3} + 3.5 x^{2} - 3.5 x + 1.0$"
      ],
      "text/plain": [
       "       3        2              \n",
       "- 1.0⋅x  + 3.5⋅x  - 3.5⋅x + 1.0"
      ]
     },
     "execution_count": 27,
     "metadata": {},
     "output_type": "execute_result"
    }
   ],
   "source": [
    "import sympy\n",
    "x = sympy.symbols('x')\n",
    "sympy.init_printing(use_unicode=True)\n",
    "sympy.expand(((x-0.5)*(x-1)*(x-2))/((0-0.5)*(0-1)*(0-2))) #L0"
   ]
  },
  {
   "cell_type": "code",
   "execution_count": 29,
   "metadata": {},
   "outputs": [
    {
     "data": {
      "image/png": "[encoded data removed]",
      "text/latex": [
       "$\\displaystyle 2.66666666666667 x^{3} - 8.0 x^{2} + 5.33333333333333 x$"
      ],
      "text/plain": [
       "                  3        2                     \n",
       "2.66666666666667⋅x  - 8.0⋅x  + 5.33333333333333⋅x"
      ]
     },
     "execution_count": 29,
     "metadata": {},
     "output_type": "execute_result"
    }
   ],
   "source": [
    "sympy.expand((x*(x-1)*(x-2))/(-0.5*0.5*(-1.5))) #L1"
   ]
  },
  {
   "cell_type": "code",
   "execution_count": 30,
   "metadata": {},
   "outputs": [
    {
     "data": {
      "image/png": "[encoded data removed]",
      "text/latex": [
       "$\\displaystyle - 2.0 x^{3} + 5.0 x^{2} - 2.0 x$"
      ],
      "text/plain": [
       "       3        2        \n",
       "- 2.0⋅x  + 5.0⋅x  - 2.0⋅x"
      ]
     },
     "execution_count": 30,
     "metadata": {},
     "output_type": "execute_result"
    }
   ],
   "source": [
    "sympy.expand((x*(x-0.5)*(x-2))/(-1*0.5)) #L2"
   ]
  },
  {
   "cell_type": "code",
   "execution_count": 32,
   "metadata": {},
   "outputs": [
    {
     "data": {
      "image/png": "[encoded data removed]",
      "text/latex": [
       "$\\displaystyle 0.333333333333333 x^{3} - 0.5 x^{2} + 0.166666666666667 x$"
      ],
      "text/plain": [
       "                   3        2                      \n",
       "0.333333333333333⋅x  - 0.5⋅x  + 0.166666666666667⋅x"
      ]
     },
     "execution_count": 32,
     "metadata": {},
     "output_type": "execute_result"
    }
   ],
   "source": [
    "sympy.expand((x*(x-0.5)*(x-1))/(2*(2-0.5)*(2-1))) #L3"
   ]
  },
  {
   "cell_type": "code",
   "execution_count": 34,
   "metadata": {},
   "outputs": [
    {
     "name": "stdout",
     "output_type": "stream",
     "text": [
      "P(x)= -2.0x^3 + 5.0x^2 + -2.0000000000000004x + 1\n"
     ]
    }
   ],
   "source": [
    "Koeff3 = -1+8/3-(2*2)+1/3\n",
    "Koeff2 = 3.5-8+(2*5)-0.5\n",
    "Koeff1 = -3.5+16/3-(2*2)+1/6\n",
    "Konst = 1\n",
    "print(\"P(x)= \", Koeff3, \"x^3 + \", Koeff2, \"x^2 + \", Koeff1, \"x + \", Konst, sep=\"\")"
   ]
  },
  {
   "cell_type": "markdown",
   "metadata": {},
   "source": [
    "**Spm0:** 7/2\n",
    "\n",
    "**Spm1:** 16/3\n",
    "\n",
    "**Spm2:** -2\n",
    "\n",
    "**Spm3:** -1/2\n",
    "\n",
    "**Spm4:** -2"
   ]
  },
  {
   "cell_type": "markdown",
   "metadata": {},
   "source": [
    "<div class=\"alert alert-block alert-info\">Oppgave 1B</div>\n",
    "\n",
    "$$\n",
    " \\begin{array}{|r||r|r|r|r|}\n",
    " \\hline\n",
    " x_i & 0 & \\frac12 & 1 & 2 \\\\ \\hline\n",
    " y_i & 1 & 1 & 2 & 1 \\\\ \\hline\n",
    " \\end{array}\n",
    "$$"
   ]
  },
  {
   "attachments": {
    "2-newton.PNG": {
     "image/png": "[encoded data removed]"
    }
   },
   "cell_type": "markdown",
   "metadata": {},
   "source": [
    "Utregning er som følger:\n",
    "![2-newton.PNG](attachment:2-newton.PNG)\n",
    "\n",
    "Interpolasjonspolynomet blir dermed \n",
    "$$\n",
    "P_3(x)=1(x)+2(x)(x-0.5)(x-1)-2(x)(x-0.5)(x-1)(x-2)\n",
    "$$\n",
    "\n",
    "**Spm5:** $f[x_0, x_1, x_2]=-2$"
   ]
  },
  {
   "cell_type": "markdown",
   "metadata": {},
   "source": [
    "<div class=\"alert alert-block alert-info\">Oppgave 2A</div>"
   ]
  },
  {
   "cell_type": "markdown",
   "metadata": {},
   "source": [
    "$$\n",
    "L_0 = \\frac{(x-1)}{(1/4-1)}=\\frac{-4x}{3} + \\frac{4}{3}\n",
    "$$\n",
    "\n",
    "$$\n",
    "L_1 = \\frac{(x-1/4)}{(1-1/4)} = \\frac{4x}{3}-\\frac{1}{3}\n",
    "$$\n",
    "\n",
    "$$\n",
    "\\Rightarrow P(x)=\\frac{2}{3}x"
   ]
  },
  {
   "cell_type": "code",
   "execution_count": 35,
   "metadata": {},
   "outputs": [
    {
     "name": "stdout",
     "output_type": "stream",
     "text": [
      "0.6666666666666666\n"
     ]
    }
   ],
   "source": [
    "print(-4/3*1/2+4/3)"
   ]
  },
  {
   "cell_type": "code",
   "execution_count": null,
   "metadata": {},
   "outputs": [],
   "source": []
  }
 ],
 "metadata": {
  "kernelspec": {
   "display_name": "Python 3",
   "language": "python",
   "name": "python3"
  },
  "language_info": {
   "codemirror_mode": {
    "name": "ipython",
    "version": 3
   },
   "file_extension": ".py",
   "mimetype": "text/x-python",
   "name": "python",
   "nbconvert_exporter": "python",
   "pygments_lexer": "ipython3",
   "version": "3.7.4"
  }
 },
 "nbformat": 4,
 "nbformat_minor": 2
}
