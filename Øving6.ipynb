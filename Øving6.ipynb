{
 "cells": [
  {
   "cell_type": "markdown",
   "metadata": {},
   "source": [
    "# Øving 6"
   ]
  },
  {
   "cell_type": "code",
   "execution_count": 3,
   "metadata": {},
   "outputs": [],
   "source": [
    "import numpy as np\n",
    "import matplotlib.pyplot as plt\n",
    "\n",
    "def BogackiShampine(t0,tend,y0,f,h0,tol):  \n",
    "    # t0        Starting point\n",
    "    # tend      End point\n",
    "    # y0        Initial value in t0\n",
    "    # f         Function\n",
    "    # h0        An approximate first step length\n",
    "    # tol       User specified tolerance for local error\n",
    "    # T         np.array([t0,t1,...,tend])\n",
    "    # stats     Dictionary of interesting statistics\n",
    "    \n",
    "    h = h0\n",
    "    n = 0\n",
    "    k1 = f(t0,y0)\n",
    "    y=y0\n",
    "    while tend-tn>0:\n",
    "        h=np.minimum(h,tend-t)\n",
    "        k2=f(t+0.5*h,y+0.5*h*k1)\n",
    "        k3=f(t+0.75*h,y+0.75*h*k2)\n",
    "        y_np1 = y+1/9*h*(2*k1+3*k2+4*k3) #y_{n+1}\n",
    "        t+=h\n",
    "        k4=f(t+h,y_np1)\n",
    "        z=y+1/24*h*(7*k1+6*k2+8*k3+3*k4)\n",
    "        est = np.linalg.norm(y_np1 - z)\n",
    "        if est<tol:#Accept step\n",
    "            n+=1\n",
    "            k1=k4\n",
    "        h_ny = alpha*h*(tol/est)**(1/3)\n",
    "        h = h_ny\n",
    "\n",
    "    return Ta,Ya,stats"
   ]
  },
  {
   "cell_type": "markdown",
   "metadata": {},
   "source": [
    "<div class=\"text-center\">\n",
    "  <button class=\"alert alert-info\">Oppgave 1</button>\n",
    "</div>"
   ]
  },
  {
   "cell_type": "code",
   "execution_count": null,
   "metadata": {},
   "outputs": [],
   "source": [
    "def f1(t,y):\n",
    "    return \n",
    "\n",
    "BogackiShampine(0,2*np.pi,y0,f,h0,tol)\n"
   ]
  }
 ],
 "metadata": {
  "kernelspec": {
   "display_name": "Python 3",
   "language": "python",
   "name": "python3"
  },
  "language_info": {
   "codemirror_mode": {
    "name": "ipython",
    "version": 3
   },
   "file_extension": ".py",
   "mimetype": "text/x-python",
   "name": "python",
   "nbconvert_exporter": "python",
   "pygments_lexer": "ipython3",
   "version": "3.7.4"
  }
 },
 "nbformat": 4,
 "nbformat_minor": 2
}
