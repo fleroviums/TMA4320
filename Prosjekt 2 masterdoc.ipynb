{
 "cells": [
  {
   "cell_type": "markdown",
   "metadata": {},
   "source": [
    "# Project 2 : :)\n",
    "## Authors: Sara Abnar, Mia Rødde, Frederick Nilsen"
   ]
  },
  {
   "cell_type": "markdown",
   "metadata": {},
   "source": [
    "**Advarsler**\n",
    "* Ikke rediger en celle uten at det er avtalt!\n",
    "* Commit etter hver endring, ellers blir det konflikt!\n",
    "* Før du committer, tryk **ALLTID** Kernel $\\rightarrow$ Restart & Clear Output\n",
    "    * Dette er for at metadata som \"excecution count\" ikke kommer med i commiten\n",
    "* Arbeid **alltid** på oppgavens branch og ikke master (commit til master når oppgaven er ferdig)"
   ]
  },
  {
   "cell_type": "markdown",
   "metadata": {},
   "source": [
    "## Introduction\n",
    "Write a quick summary of the project and the page structure here. This can wait until around the end of the project.\n",
    "Don't create new cells, just edit this one."
   ]
  },
  {
   "cell_type": "code",
   "execution_count": null,
   "metadata": {},
   "outputs": [],
   "source": [
    "### CELLE DEDIKERT TIL INIT OG IMPORTS\n",
    "import numpy as np"
   ]
  },
  {
   "cell_type": "code",
   "execution_count": null,
   "metadata": {},
   "outputs": [],
   "source": [
    "### CELLE DEDIKERT TIL ADAM DESCENT ALG."
   ]
  },
  {
   "cell_type": "code",
   "execution_count": null,
   "metadata": {},
   "outputs": [],
   "source": [
    "### CELLE DEDIKERT TIL Stochastic gradient descent"
   ]
  },
  {
   "cell_type": "code",
   "execution_count": null,
   "metadata": {},
   "outputs": [],
   "source": []
  }
 ],
 "metadata": {
  "kernelspec": {
   "display_name": "Python 3",
   "language": "python",
   "name": "python3"
  },
  "language_info": {
   "codemirror_mode": {
    "name": "ipython",
    "version": 3
   },
   "file_extension": ".py",
   "mimetype": "text/x-python",
   "name": "python",
   "nbconvert_exporter": "python",
   "pygments_lexer": "ipython3",
   "version": "3.7.4"
  }
 },
 "nbformat": 4,
 "nbformat_minor": 2
}
