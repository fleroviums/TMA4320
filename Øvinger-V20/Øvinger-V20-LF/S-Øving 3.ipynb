{
 "cells": [
  {
   "cell_type": "markdown",
   "metadata": {},
   "source": [
    "# Øving 3 - TMA4320\n",
    "* **Veiledning:** Torsdag 23. januar, 2020, 0815-1000 i H3\n",
    "* **Innleveringsfrist:** Torsdag 30. januar, 2020, kl 1400\n",
    "* **Innleveringsmetode** Følgende to krav er nødvendig for godkjenning\n",
    "    1. Opplasting av Jupyter Notebook (individuelt) i Blackboard\n",
    "    2. Svare på Blackboardskjema for de tre kontrollspørsmålene i øvingen\n",
    "\n",
    "Denne øvingen dreier seg om polynominterpolasjon. Bruk penn og papir til å finne svarene. Ta quizen i Bb.\n",
    "\n",
    "## Oppgave 1\n",
    "La følgende interpolasjonsdata være gitt\n",
    "\n",
    "$$\n",
    " \\begin{array}{|r||r|r|r|r|}\n",
    " \\hline\n",
    " x_i & 0 & \\frac12 & 1 & 2 \\\\ \\hline\n",
    " y_i & 1 & 1 & 2 & 1 \\\\ \\hline\n",
    " \\end{array}\n",
    "$$\n",
    "\n",
    "**Oppgave 1a.**\n",
    "Bestem Lagrangefunksjonene $L_i(x),\\ i=0,\\ldots,3$ og bestem interpolasjonspolynomet $P_3(x)$ av grad 3.\n",
    "\n"
   ]
  },
  {
   "cell_type": "markdown",
   "metadata": {},
   "source": [
    "**Løsning 1a.**\n",
    "$$\n",
    "L_0(x) = -x^3+\\frac{7}{2} x^2-\\frac72 x + 1,\\quad\n",
    "L_1(x) =\\frac83 x^3-8 x^2+\\frac{16}{3}\\,x ,\\quad\n",
    "L_2(x) =-2 x^3 + 5 x^2 - 2 x,\\quad\n",
    "L_3(x) = \\frac13 x^3-\\frac12 x^2+ \\frac16 x\n",
    "$$\n",
    "\n",
    "Interpolasjonspolynomet blir\n",
    "\n",
    "$$\n",
    "    P_3(x) = -2x^3 + 5 x^2 -2 x + 1\n",
    "$$"
   ]
  },
  {
   "cell_type": "markdown",
   "metadata": {},
   "source": [
    "**Kontrollspørsmål 0:**\n",
    "Hva er koeffisienten foran $x^2$ i $L_0$? **Svar:** $\\frac72$\n",
    "\n",
    "**Kontrollspørsmål 1:**\n",
    "Hva er koeffisienten foran $x$ i $L_1$? **Svar: $\\frac{16}{3}$**\n",
    "\n",
    "**Kontrollspørsmål 2:**\n",
    "Hva er koeffisienten foran $x$ i $L_2$? **Svar:** -2\n",
    "\n",
    "**Kontrollspørsmål 3:**\n",
    "Hva er koeffisienten foran $x^2$ i $L_3$? **Svar:** $-\\frac12$\n",
    "\n",
    "**Kontrollspørsmål 4:**\n",
    "Hva er koeffisienten foran $x^3$ i $P_3$? **Svar** $-\\frac12$\n"
   ]
  },
  {
   "cell_type": "markdown",
   "metadata": {},
   "source": [
    "**Oppgave 1b.** Sett opp tabellen over dividerte differenser for dataene ovenfor, og skriv ned interpolasjonspolynomet på Newton's form."
   ]
  },
  {
   "cell_type": "markdown",
   "metadata": {},
   "source": [
    "**Løsning 1b.**\n",
    "\n",
    "Dividerte differenser\n",
    "\n",
    "$$\n",
    "\\begin{array}{r|rrrr}\n",
    "0      &  1 &    &     & \\\\\n",
    "       &    &  0 &     &  \\\\\n",
    "\\frac12&  1 &    &  2  & \\\\\n",
    "       &    &  2 &     & -2 \\\\\n",
    "1      &  2 &    & -2  \\\\\n",
    "       &    & -1 &   \\\\\n",
    "2      &  1 &    &\n",
    "\\end{array},\\qquad\n",
    "\\begin{array}{rcl}\n",
    "P_3(x) &=& 1 + 0 (x-0) + 2 (x-0)(x-\\frac12) - 2 (x-0)(x-\\frac12)(x-1)\\\\\n",
    "       &=& -2x^3 + 5 x^2 -2 x + 1\n",
    "\\end{array}\n",
    "$$\n"
   ]
  },
  {
   "cell_type": "markdown",
   "metadata": {},
   "source": [
    "**Kontrollspørsmål 5:**\n",
    "Hva er $f\\left[x_0, x_1, x_2\\right]$? **Svar:** 2\n"
   ]
  },
  {
   "cell_type": "markdown",
   "metadata": {},
   "source": [
    "## Oppgave 2\n",
    " \n",
    "Kvadratrotfunksjonen, $f(x)=\\sqrt{x}$ skal approksimeres med lineær interpolasjon med hensyn på abscissene\n",
    "$x_0=\\frac14$ og $x_1=1$.\n",
    "\n",
    "*Kommentar.* Klassiske biblioteksrutiner for beregning av $\\sqrt{x}$ gjør følgende: Først skalerer de argumentet $x$ ved å skrive det på formen $x=2^{2m}y$ der $m$ er et heltall og $\\leq\\frac14\\leq y<1$ slik at $\\sqrt{x}=2^m\\sqrt{y}$. Man kan så bruke Newtoniterasjon på $f(z)=z^2-y=0$ som tar formen $z_{k+1}=\\frac12(z_k+\\frac{y}{z_k})$. Men $z_0$ må bestemmes. Da kan man for eksempel benytte interpolasjon slik vi gjør her, og feilskranke er viktig.\n",
    " \n",
    "\n",
    "**Oppgave 2a.** Finn det lineære interpolasjonspolynomet $P(x)$ som interpolerer $f(x)$ i abscissene $x_0$ og $x_1$.\n",
    "\n",
    "**Kontrollspørsmål 6.** Angi $P(\\frac12)$. **Svar:** $\\frac23$"
   ]
  },
  {
   "cell_type": "markdown",
   "metadata": {},
   "source": [
    "**Løsning 2a.** $P(x)=\\frac23 x + \\frac13$"
   ]
  },
  {
   "cell_type": "code",
   "execution_count": 3,
   "metadata": {},
   "outputs": [
    {
     "data": {
      "image/png": "[encoded data removed]",
      "text/plain": [
       "<Figure size 432x288 with 1 Axes>"
      ]
     },
     "metadata": {},
     "output_type": "display_data"
    }
   ],
   "source": [
    "# Løsning 2a fortsatt\n",
    "import numpy as np\n",
    "import matplotlib.pyplot as plt\n",
    "X=np.linspace(0.25,1.0,40)\n",
    "Y=np.sqrt(X)\n",
    "Y1=2./3.*X+1./3.\n",
    "plt.plot(X,Y,X,Y1)\n",
    "plt.show()"
   ]
  },
  {
   "cell_type": "markdown",
   "metadata": {},
   "source": [
    "**Oppgave 2b.** Bruk den generelle feilformelen for interpolasjon til å lage en øvre skranke for feilen.\n",
    "Gjør dette ved først å bestemme $M=\\max_{t\\in[\\frac14,1]} |f''(t)|$, og deretter finne maximum av absoluttverdien til\n",
    "datapolynomet $(x-x_0)(x-x_1)$.\n",
    "\n",
    "**Kontrollspørsmål 7.** Angi feilskranken som en brøk $\\frac{p}{q}$ der $p$ og $q$ er relativt primiske heltall (dvs brøken er maksimalt forkortet). **Svar** $\\frac{9}{64}$"
   ]
  },
  {
   "cell_type": "markdown",
   "metadata": {},
   "source": [
    "**Løsning 2b.** Med $f(x)=\\sqrt(x)=x^{1/2}$ fås\n",
    "$$\n",
    "f''(t) = -\\frac14 t^{-3/2}\n",
    "$$\n",
    "Vi ser at $|f''(t)|$ er avtagende for alle $t>0$ så maksverdien inntreffer i $t=\\frac14$. Vi finner at\n",
    "$M=\\frac14\\left(\\frac14\\right)^{-3/2}=2$. Vi finner også \n",
    "$$\n",
    "\\max_{x\\in[\\frac14,1]} |(x-\\frac14)(x-1)|=\\frac{9}{64}\\approx 0.1406\n",
    "$$\n",
    "Til slutt får vi da skranken for interpolasjonsfeilen\n",
    "$$\n",
    "|f(x)-P(x)| \\leq \\frac{M}{(1+1)!} \\max_{x\\in[\\frac14,1]}|(x-\\frac14)(x-1)| = \\frac{2}{2}\\cdot\\frac{9}{64}\\approx 0.1406\n",
    "$$"
   ]
  },
  {
   "cell_type": "markdown",
   "metadata": {},
   "source": [
    "**Oppgave 2c.** Finn deretter eksakt maksimalfeil $\\max_{x\\in[\\frac14,1]} |f(x)-P(x)|$ og sammenlign denne med skranken fra **2b.**\n",
    "\n",
    "**Kontrollspørsmål 8.** Angi denne maksimalfeilen som en brøk $\\frac{p}{q}$ der $p$ og $q$ er relativt primiske heltall. **Svar:** $\\frac{1}{24}$"
   ]
  },
  {
   "cell_type": "markdown",
   "metadata": {},
   "source": [
    "**Løsning 2c.** Dette er en god gammeldags funksjonsdrøftingsoppgave, vi bruker standard metodikk fra Matematikk 1 til å beregne ekstremalverdiene til\n",
    "\n",
    "$$\n",
    "%\\max_{x\\in[\\frac14,1]}\n",
    "e(x)=\\sqrt{x}-(\\frac23 x + \\frac13)\n",
    "$$\n",
    "\n",
    "Endepunktene kan vi se bort fra så vi sjekker stasjonære punkter\n",
    "\n",
    "$$\n",
    "e'(x) = \\frac12 x^{-1/2} - \\frac23 = 0\\quad\\Rightarrow\\quad x=\\frac{9}{16},\\quad |e(\\frac{9}{16})|=\\frac{1}{24}\\approx\n",
    "0.0417\n",
    "$$\n",
    "\n",
    "Så konklusjonen er at den virkelige feilen er litt mindre enn en tredjedel av skranken. Dette er kanskje ikke så galt.\n",
    "\n"
   ]
  }
 ],
 "metadata": {
  "kernelspec": {
   "display_name": "Python 3",
   "language": "python",
   "name": "python3"
  },
  "language_info": {
   "codemirror_mode": {
    "name": "ipython",
    "version": 3
   },
   "file_extension": ".py",
   "mimetype": "text/x-python",
   "name": "python",
   "nbconvert_exporter": "python",
   "pygments_lexer": "ipython3",
   "version": "3.6.7"
  },
  "toc": {
   "base_numbering": 1,
   "nav_menu": {},
   "number_sections": true,
   "sideBar": true,
   "skip_h1_title": true,
   "title_cell": "Table of Contents",
   "title_sidebar": "Contents",
   "toc_cell": false,
   "toc_position": {},
   "toc_section_display": true,
   "toc_window_display": false
  }
 },
 "nbformat": 4,
 "nbformat_minor": 2
}
