{
 "cells": [
  {
   "cell_type": "markdown",
   "metadata": {},
   "source": [
    "# Øving 4 - TMA4320\n",
    "* **Veiledning:** Torsdag 13. februar, 2020, 0815-1000 i H3\n",
    "* **Innleveringsfrist:** Torsdag 20. februar, 2020, kl 1400\n",
    "* **Innleveringsmetode** Følgende to krav er nødvendig for godkjenning\n",
    "    1. Opplasting av Jupyter Notebook (individuelt) i Blackboard\n",
    "    2. Svare på Blackboardskjema for de tre kontrollspørsmålene i øvingen\n",
    "\n",
    "Denne øvingen dreier seg om numerisk integrasjon. Ta en kopi av denne Notebook'en og fyll inn dine svar. Ta quizen i Bb.\n",
    "\n",
    "**Oppgave 1**\n",
    "Vi ser i første omgang på en numerisk integrasjonsformel på intervallet $[0,1]$ av formen\n",
    "\n",
    "$$\n",
    "    Q[f] = s\\left(f(1)-f(0)\\right) + b f(\\alpha) \n",
    "$$\n",
    "\n",
    "der $s$, $b$ og $\\alpha$ er parametre som kan velges.\n",
    "\n",
    "\n",
    "<div class=\"alert alert-block alert-success\">\n",
    "**Oppgave 1a.**\n",
    "Finn verdier for $s$, $b$ og $\\alpha$ som gjør at formelen får høyest mulig presisjonsgrad.\n",
    "</div>\n"
   ]
  },
  {
   "cell_type": "markdown",
   "metadata": {},
   "source": [
    "**Løsning 1a.**\n",
    "Betingelser\n",
    "\n",
    "$$\n",
    "\\begin{array}{llcl}\n",
    "p=0: & s(1-1)+b=\\int_0^1 1\\;dx &\\Rightarrow& b=1 \\\\ \n",
    "p=1: & s(1-0)+b\\alpha=\\int_0^1 x &\\Rightarrow& s+b\\alpha=\\frac12 \\\\\n",
    "p=2: & s(1^2-0^2)+b\\alpha^2=\\int_0^1 x^2 dx &\\Rightarrow& s+b\\alpha^2 =\\frac13\n",
    "\\end{array}\n",
    "$$\n",
    "\n",
    "Så $b=1$ og differansen mellom de to siste betingelsene gir $\\alpha^2-\\alpha+\\frac16=0$ som gir at $\\alpha=\\frac12\\pm\\frac16\\sqrt{3}$ og dermed $s=\\mp\\frac16\\sqrt{3}$. Vi får de to løsningene \n",
    "\n",
    "$$(b,\\alpha,s)\\in\\left\\{(1,\\tfrac12+\\tfrac16\\sqrt{3},-\\tfrac16\\sqrt{3}),\\\n",
    "(1,\\tfrac12-\\tfrac16\\sqrt{3},\\tfrac16\\sqrt{3})\\right\\}$$\n",
    "\n",
    "Ved konstruksjon har vi med disse to løsningene funnet formler med presisjonsgrad 2. Ved å sette løsningene inn betingelsen for $p=3$ finner vi at presisjonsgraden ikke er større enn 2."
   ]
  },
  {
   "cell_type": "markdown",
   "metadata": {},
   "source": [
    "**Kontrollspørsmål 1:**\n",
    "Hva er den største mulige presisjonsgrad? **Svar:** $2$\n",
    "\n",
    "**Kontrollspørsmål 2:** Det fins to løsninger for $\\alpha$, hva er verdien av den minste av disse?\n",
    "**Svar:** $\\tfrac12-\\tfrac16\\sqrt{3}$\n",
    "\n"
   ]
  },
  {
   "cell_type": "markdown",
   "metadata": {},
   "source": [
    "Vi modifiserer nå formelen ved å transformere den til intervallet $[x_k,x_k+h]$.\n",
    "Et lineært variabelskifte, $x=x_k+th$, gir oss\n",
    "\n",
    "$$\n",
    "  \\int_{x_k}^{x_k+h}f(x)\\,dx = h\\int_0^1 f(x_k+th)\\,dt \n",
    "$$\n",
    "\n",
    "som gir den modifiserte formelen\n",
    "\n",
    "$$\n",
    "     Q_{[x_k,x_k+h]}[f] = h\\big(s(f(x_k+h)-f(x_k)) + b f(x_k+\\alpha h)\\big)\n",
    "$$\n",
    "\n",
    "Neste skritt er å lage en sammensatt formel; definer $x_k=a+kh$ der $h=\\frac{b-a}{n}$ og $n$ er antall intervaller. Vi kan nå lage den sammensatte formelen\n",
    "\n",
    "$$\n",
    "  \\bar{Q}_n[f] = \\sum_{k=0}^{n-1} Q_{[x_k,x_k+h]}[f]\n",
    "$$\n",
    "\n",
    "<div class=\"alert alert-block alert-success\">\n",
    "**Oppgave 1b.** Skriv opp formelen for $\\bar{Q}_n[f]$ med de verdiene du har funnet for parametrene $b, \\alpha, s$ i forrige oppgave.\n",
    "</div>"
   ]
  },
  {
   "cell_type": "markdown",
   "metadata": {},
   "source": [
    "**Løsning 1b.** En påtenkt kansellering skjer her, og man kan skrive\n",
    "\n",
    "$$\n",
    "   \\bar{Q}_n[f] = hs(f(b)-f(a)) + h \\sum_{k=0}^{n-1} f(x_k+\\alpha h)  \n",
    "$$\n",
    "\n",
    "der $s$ og $\\alpha$ tas fra løsningen av **(1a)**.\n",
    "\n"
   ]
  },
  {
   "cell_type": "markdown",
   "metadata": {},
   "source": [
    "**Kontrollspørsmål 3:**\n",
    "Hvor mange funksjonsevalueringer (beregninger av $f(x)$) trenger man med $n$ intervaller? **Svar:** n+2\n"
   ]
  },
  {
   "cell_type": "markdown",
   "metadata": {},
   "source": [
    "<div class=\"alert alert-block alert-success\">\n",
    "**Oppgave 1c.**\n",
    "Implementer metoden i Python. Anvend den på integralet\n",
    "\n",
    "$$\n",
    "I =   \\int_{-2}^2 \\frac{\\sin x}{x}\\,dx\n",
    "$$\n",
    "\n",
    "med $n=4,8,16,32,64,128$ og sammenlign svaret med sammensatt trapesmetode med samme antall intervaller.\n",
    "Husk unntaksbehandling av $x=0$ (spesielt relevant for trapes).\n",
    "</div>"
   ]
  },
  {
   "cell_type": "markdown",
   "metadata": {},
   "source": [
    "**Løsning 1c.** "
   ]
  },
  {
   "cell_type": "code",
   "execution_count": 1,
   "metadata": {},
   "outputs": [
    {
     "name": "stdout",
     "output_type": "stream",
     "text": [
      "    Feil i ny formel           Feil i trapes      \n",
      "    Feil       Feil/n^4       Feil       Feil/n^2  \n",
      "  0.00011210   0.02869697   0.07323527   1.17176433\n",
      "  0.00000689   0.02823414   0.01818288   1.16370414\n",
      "  0.00000043   0.02812060   0.00453797   1.16171959\n",
      "  0.00000003   0.02809235   0.00113401   1.16122532\n",
      "  0.00000000   0.02808531   0.00028347   1.16110187\n",
      "  0.00000000   0.02808332   0.00007087   1.16107102\n",
      "  0.00000000   0.02808189   0.00001772   1.16106330\n"
     ]
    }
   ],
   "source": [
    "import numpy as np\n",
    "\n",
    "def f(x):\n",
    "    if x==0:\n",
    "        return 1\n",
    "    else:\n",
    "        return np.sin(x)/x\n",
    "\n",
    "def teleformula(f,a,b,n,c):\n",
    "    '''Beregner approksimasjon til I basert på formelen utledet i denne oppgaven\n",
    "    f: integranden\n",
    "    a,b: Intervallgrenser\n",
    "    n: Antall intervaller\n",
    "    c: skal være 1 eller -1 og velger hvilken av de to metodene med presisjonsgrad 2 \n",
    "        som skal brukes\n",
    "    '''\n",
    "    s=c*1./6.*np.sqrt(3)\n",
    "    alpha=0.5-s\n",
    "    h=(b-a)/n\n",
    "    result=s*(f(b)-f(a))\n",
    "    for k in range(n):\n",
    "        result += f(a+(k+alpha)*h)\n",
    "    return h*result\n",
    "\n",
    "def trapesformula(f,a,b,n):\n",
    "    h=(b-a)/n\n",
    "    result=-(f(a)+f(b))/2.0\n",
    "    for k in range(n+1):\n",
    "        result += f(a+k*h)\n",
    "    return h*result\n",
    "\n",
    "na=[4,8,16,32,64,128,256]\n",
    "I = 3.2108259536053896972  # Har funnet 'eksakt svar' for sammenligning\n",
    "c=-1 #valg av metode, bytt til c=-1 for å få den andre løsningen\n",
    "print('{:^24}  {:^24}'.format('Feil i ny formel','Feil i trapes'))\n",
    "print('{:^12} {:^12} {:^12} {:^12}'.format('Feil','Feil/n^4','Feil','Feil/n^2'))\n",
    "for n in na: \n",
    "    Q=teleformula(f,-2.,2.,n,c)\n",
    "    Qt=trapesformula(f,-2.,2.,n)\n",
    "    err=np.abs(Q-I)\n",
    "    errT=np.abs(Qt-I)\n",
    "    print('{:12.8f} {:12.8f} {:12.8f} {:12.8f}'.format(err,err*n**4,errT,errT*n**2))\n",
    "        \n",
    "    \n"
   ]
  },
  {
   "cell_type": "markdown",
   "metadata": {},
   "source": [
    "Vi ser altså her at feilen i den nye formelen oppfører seg som $C h^4$, dette skyldes at integranden er symmetrisk.\n",
    "\n",
    "**Kontrollspørsmål 4.** Fra eksperimentene kan man estimere at feilen i den nye formelen på dette problemet oppfører seg som $|I-\\bar{Q}_n[f]|\\approx C n^q$ for et heltall $q$. Bestem $q$.\n",
    "**Svar** $q=4$"
   ]
  },
  {
   "cell_type": "code",
   "execution_count": null,
   "metadata": {},
   "outputs": [],
   "source": []
  }
 ],
 "metadata": {
  "kernelspec": {
   "display_name": "Python 3",
   "language": "python",
   "name": "python3"
  },
  "language_info": {
   "codemirror_mode": {
    "name": "ipython",
    "version": 3
   },
   "file_extension": ".py",
   "mimetype": "text/x-python",
   "name": "python",
   "nbconvert_exporter": "python",
   "pygments_lexer": "ipython3",
   "version": "3.6.10"
  },
  "toc": {
   "base_numbering": 1,
   "nav_menu": {},
   "number_sections": true,
   "sideBar": true,
   "skip_h1_title": true,
   "title_cell": "Table of Contents",
   "title_sidebar": "Contents",
   "toc_cell": false,
   "toc_position": {},
   "toc_section_display": true,
   "toc_window_display": false
  }
 },
 "nbformat": 4,
 "nbformat_minor": 2
}
