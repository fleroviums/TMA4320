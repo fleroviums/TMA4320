{
 "cells": [
  {
   "cell_type": "markdown",
   "metadata": {},
   "source": [
    "# Øving 6 - TMA4320\n",
    "\n",
    "* **Veiledning:** Torsdag 12. mars og torsdag 19. mars, 2020, kl 0815-1000 i H3.\n",
    "* **Innleveringsfrist:** Fredag 20. mars, 2020, kl 08:00.* \n",
    "* **Innleveringsmetode** Følgende to krav er nødvendig for godkjenning\n",
    "    1. Opplasting av Jupyter Notebook (individuelt) i Blackboard\n",
    "    2. Svare på Blackboardskjema for de tre kontrollspørsmålene i øvingen\n",
    "\n",
    "**Innledning.** I 1989 publiserte Lawrence Shampine sammen med sin PhD-student Przemyslaw Bogacki en artikkel om et innbygd Runge-Kutta par av orden 3(2) med gode egenskaper. I denne oppgaven skal du implementere denne metoden og teste den ut på et interessant problem. Dette kan være en god forberedelse til Prosjekt 3.\n",
    "Et skritt av metoden kan for problemet $\\dot{y}=f(t,y)$ formuleres som\n",
    "\n",
    "\\begin{align*}\n",
    "k_1 &= f(t_n,y_n) \\\\\n",
    "k_2 &= f(t_n+\\tfrac12 h_n, y_n+\\tfrac12 h_nk_1) \\\\\n",
    "k_3 &= f(t_n+\\tfrac34 h_n, y_n + \\tfrac34 h_nk_2) \\\\[1mm]\n",
    "y_{n+1} &= y_n + \\tfrac19 h_n (2 k_1 + 3k_2 + 4k_3)\\\\[1mm]\n",
    "k_4 &= f(t_n + h_n,y_{n+1}) \\\\[1mm]\n",
    "z_{n+1} &= y_n + \\tfrac{1}{24} h_n (7k_1 + 6k_2 + 8 k_3 + 3 k_4)\n",
    "\\end{align*}\n",
    "\n",
    "**Implementasjon.** Man kan implementere denne metoden ved å kode opp en funksjon som tar følgende input\n",
    "* t0: Startpunktet (venstre endepunkt)\n",
    "* tend: Sluttpunktet (høyre endepunkt)\n",
    "* y0: Den gitte initialverdien i t0\n",
    "* f: En funksjon som beskrevet nedenfor\n",
    "* h0: En omtrentlig første tidsskrittlengde\n",
    "* tol: En brukerspesifisert toleranse for lokalfeil\n",
    "\n",
    "Funksjonen returnerer\n",
    "* T: et numpy array med alle [t0,t1,...,tend], disse velges av funksjonen\n",
    "* Y: En 2d numpy-matrise der rad n angir løsning ved tid $t=t_n$\n",
    "* stats: en dictionary over interessant statistikk. For eksempel kan man ha nøklene 'steps' for antall skritt, 'fevals' for antall kall til funksjonen f, og 'rejects' for antall ganger skritt ble forkastet. Man kan selv velge hva slags informasjon man ellers vil legge inn i stats.\n",
    "\n",
    "Inputfunksjonen f tar to inputargumenter, $t$ og $y$ der $t$ er et reelt tall og $y$ er et numpy-array med\n",
    "lengde lik problemets dimensjon. Den returnerer et numpy-array av samme dimensjon som y som inneholder $f(t,y)$.\n",
    "\n",
    "Når man forsøker å ta ett skritt med metoden, så beregner man først $y_{n+1}$ og $z_{n+1}$ fra formlene gitt ovenfor, og danner så et skalart feilestimat\n",
    "\n",
    "$$\n",
    "\\mathrm{est}_{n+1} = \\| y_{n+1} - z_{n+1} \\|\n",
    "$$\n",
    "\n",
    "I tillegg fins en justeringsformel for skrittlengden fra ett skritt til et annet. Vi setter\n",
    "\n",
    "$$\n",
    "    h_{ny} = \\alpha\\cdot h_n \\cdot \\left(\\frac{tol}{est}\\right)^{1/3},\\quad \\alpha\\approx 0.8-0.9\n",
    "$$\n",
    "\n",
    "$\\alpha$ er en såkalt pessimistfaktor. Hvis den velges for liten så blir man veldig forsiktig, tar kortere skritt enn nødvendig og bruker dermed uforholdsmessig mange skritt. Hvis den velges for stor så kan det bli mange forkastede skritt. Man tar færre skritt, men bruker regnetid på å gjøre om igjen mange skritt.\n",
    "\n",
    "Algoritmen kan beskrives som følger (tar ikke med statistikkinnsamling)\n",
    "\n",
    "* Gitt $t_0, t_{end}, y_0, h_0, tol, f$ som input\n",
    "* $h=h_0$, $n=0$\n",
    "* $k_1=f(t_0,y_0)$\n",
    "* **while** $t_{end}-t_n>0$\n",
    "    * $h=\\min(h,t_{end}-t_n)$\n",
    "    * Beregn $k_2, k_3$ og deretter $y_{n+1}$ fra oppgitt formel\n",
    "    * $t_{n+1} = t_n+h$\n",
    "    * Beregn $k_4$ og deretter $z_{n+1}$ fra oppgitt formel\n",
    "    * $est=\\| y_{n+1} - z_{n+1} \\|$\n",
    "    * **if** $est < tol$ (aksepter skritt)\n",
    "        * $n=n+1$\n",
    "        * $k_1=k_4$\n",
    "    * $h_{ny}$ beregnes fra oppgitt formel og sett $h=h_{ny}$.\n",
    "\n",
    "Merk at enten skrittet forkastes eller aksepteres så brukes samme formel for å oppdatere skrittlengden $h$.\n",
    "\n",
    "<!---\n",
    "\n",
    "*Dynamisk allokering.* Et programteknisk problem som må løses er det faktum at du ikke vet størrelsen på arrayene $T$ og $Y$ apriori. Én måte å løse dette på er å bruke dictionaries som mellomlagring. En kan for eksempel starte\n",
    "med å sette\n",
    "* Tdict={0 : t0}\n",
    "* Ydict={0 : y0}\n",
    "og deretter lagre i Tdict[k] og Ydict[k] når k økes. Til slutt kan man overføre Tdict og Ydict i numpy arrays T og Y.\n",
    "\n",
    "En annen måte som kanskje er mer effektiv og minne-økonomisk er å bruke numpy-funksjonen append. I denne oppgaven er vi ikke så opptatt av kodens effektivitet og det blir litt opp til hver og en hvordan man vil løse problemet.\n",
    "\n",
    "-->\n",
    "\n",
    "\n"
   ]
  },
  {
   "cell_type": "markdown",
   "metadata": {},
   "source": [
    "**Oppgave 1** Skriv koden og test den ut på det enkle problemet\n",
    "\n",
    "$$\n",
    "u'=v,\\ v'=-4u,\\quad u(0)=1,\\ v(0)=0,\\ [t_0,t_{end}]=[0,2\\pi]\n",
    "$$\n",
    "\n",
    "som har eksakt løsning $u(t)=\\cos 2t$ og $v(t)=-2\\sin 2t$. Merk at her er $y(t)=[u(t),v(t)]^T$.\n",
    "\n",
    "Lag 3 plott\n",
    "* Et som viser de to komponentene $u$ og $v$ beregnet av metoden som funksjon av $t$ i samme plott\n",
    "* Et som viser den virkelige feilen som funksjon av $t$ (bruk kjent eksakt løsning)\n",
    "* Et som viser hvordan skrittlengden varierer med som funksjon av $t$\n",
    "\n",
    "Skriv ut statistikk også, dvs antall skritt, funksjonsevalueringer og forkastede skritt.\n",
    "\n",
    "\n",
    "**Oppgave 2** Anvend funksjonen på Brusselator-problemet nedenfor. Sett pessimistfaktor $\\alpha=0.9$,\n",
    "$t_0=0$, $t_{end}=20$, og $tol=10^{-5}$. La $h0=0.1$.\n",
    "\n",
    "\\begin{align*}\n",
    "u' &= 1 + u^2 v - 4 u, & u(0)&=1 \\\\\n",
    "v' &= 3u - u^2 v,  & v(0)&=2.9\n",
    "\\end{align*}\n",
    "\n",
    "Lag 3 plott\n",
    "* Et som plotter $v$ mot $u$ (faseplott) dvs $u$ langs $x$-aksen og $v$ langs $y$-aksen.\n",
    "* Et som viser de to komponentene $u$ og $v$  som funksjon av $t$ is samme plott\n",
    "* Et som viser hvordan skrittlengden varierer med som funksjon av $t$\n",
    "\n",
    "\n",
    "**Kontrollspørsmål:** Du blir her bedt om å rapportere statistikk fra eksperimentet i Oppgave 2.\n",
    "Antall skritt koden din bruker, antall funksjonsevalueringer (feval) og antall forkastede skritt."
   ]
  },
  {
   "cell_type": "code",
   "execution_count": 4,
   "metadata": {},
   "outputs": [],
   "source": [
    "import numpy as np\n",
    "import matplotlib.pyplot as plt\n",
    "\n",
    "def BogackiShampine(t0,tend,y0,f,h0,tol):\n",
    "# Implementer funksjonen her\n",
    "    return Ta,Ya,stats"
   ]
  },
  {
   "cell_type": "markdown",
   "metadata": {},
   "source": [
    "**Kode for Oppgave 1** skrives under her"
   ]
  },
  {
   "cell_type": "code",
   "execution_count": 5,
   "metadata": {},
   "outputs": [],
   "source": [
    "import numpy as np\n",
    "\n",
    "def LinearTestProblem(t,y):\n",
    "    return np.array([y[1],-4*y[0]])\n",
    "\n",
    "# Fyll inn koden som løser diffligningen, plotter, og skriver ut statistikk\n",
    "\n"
   ]
  },
  {
   "cell_type": "markdown",
   "metadata": {},
   "source": [
    "**Kode for Oppgave 2** skrives under her"
   ]
  },
  {
   "cell_type": "code",
   "execution_count": 6,
   "metadata": {},
   "outputs": [],
   "source": [
    "def Brusselator(t,y):\n",
    "    return np.array([1+y[0]**2*y[1]-4*y[0],3*y[0]-y[0]**2*y[1]])\n",
    "\n",
    "# Fyll inn koden som løser diffligningen, plotter, og skriver ut statistikk\n",
    "\n"
   ]
  }
 ],
 "metadata": {
  "kernelspec": {
   "display_name": "Python 3",
   "language": "python",
   "name": "python3"
  },
  "language_info": {
   "codemirror_mode": {
    "name": "ipython",
    "version": 3
   },
   "file_extension": ".py",
   "mimetype": "text/x-python",
   "name": "python",
   "nbconvert_exporter": "python",
   "pygments_lexer": "ipython3",
   "version": "3.7.4"
  },
  "toc": {
   "base_numbering": 1,
   "nav_menu": {},
   "number_sections": true,
   "sideBar": true,
   "skip_h1_title": true,
   "title_cell": "Table of Contents",
   "title_sidebar": "Contents",
   "toc_cell": false,
   "toc_position": {},
   "toc_section_display": true,
   "toc_window_display": false
  }
 },
 "nbformat": 4,
 "nbformat_minor": 2
}
