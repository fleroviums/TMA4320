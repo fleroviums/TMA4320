{
 "cells": [
  {
   "cell_type": "markdown",
   "metadata": {},
   "source": [
    "# Project 1\n",
    "## Modelling motor proteins as particles diffusing in parallel potentials\n",
    "### Abnar, S., Nilsen F., Rødde, M."
   ]
  },
  {
   "cell_type": "markdown",
   "metadata": {},
   "source": [
    "# 3. Exercises\n",
    "\n",
    "<div class=\"alert alert-block alert-info\">Exercise 3.1</div>\n",
    "\n",
    "Showing that (1)\n",
    "\n",
    "$$\n",
    "\\phi(x,t)=\\frac{1}{\\sqrt{4\\pi Dt}} \\int_{-\\infty}^\\infty \\mathrm{d}y \\, h(y)e^{-\\frac{(x-y)^2}{4Dt}}\n",
    "$$\n",
    "\n",
    "is a solution of the diffusion equation (2)\n",
    "\n",
    "$$\n",
    "\\frac{\\partial \\phi(x,t)}{\\partial t} = \\frac{\\partial }{\\partial x} \\left( D(x) \\frac{\\partial \\phi(x,t)}{\\partial x}\\right)\n",
    "$$"
   ]
  },
  {
   "cell_type": "markdown",
   "metadata": {},
   "source": [
    "**Spørsmål til studass**\n",
    "* Kan man få nummer bak en likning når man skriver i Jupyter?"
   ]
  },
  {
   "cell_type": "code",
   "execution_count": null,
   "metadata": {},
   "outputs": [],
   "source": []
  },
  {
   "cell_type": "markdown",
   "metadata": {},
   "source": [
    "Differentiating (1) with respect to time $t$\n",
    "\n",
    "$$\n",
    "\\frac{ \\partial \\phi(x,t)}{\\partial t} = \\frac{ \\partial}{\\partial t} \\left[\\frac{1}{\\sqrt{4\\pi Dt}} \\int_{-\\infty}^\\infty \\mathrm{d}y \\, h(y)e^{-\\frac{(x-y)^2}{4Dt}} \\right]\n",
    "$$\n",
    "\n",
    "where  $\\left(4\\pi D\\right)^{-1/2}$ is independent of time. We simplify to\n",
    "\n",
    "$$\n",
    "\\frac{ \\partial \\phi(x,t)}{\\partial t} = \\frac{1}{\\sqrt{4\\pi D}} \\frac{ \\partial}{\\partial t} \\left[\\frac{1}{\\sqrt{t}} \\int_{-\\infty}^\\infty \\mathrm{d}y \\, h(y)e^{-\\frac{(x-y)^2}{4Dt}} \\right]\n",
    "$$\n",
    "\n",
    "and can hereby use product rule of derivation\n",
    "\n",
    "..."
   ]
  },
  {
   "cell_type": "markdown",
   "metadata": {},
   "source": [
    "<div class=\"alert alert-block alert-info\">Exercise 3.3</div>\n",
    "\n",
    "We have the probability of finding a particle at position $x$ in a potential landscape $V(x)$ given by\n",
    "\n",
    "$$\n",
    "P(x) = Z e^{-\\beta V(x)}, \n",
    "$$\n",
    "\n",
    "and hereby find the probability of moving one step to the right $p^+$\n",
    "\n",
    "$$\n",
    "p^+ = \\frac{P(x_0 + 1)}{P(x_0) + P(x_0 + 1) + P(x_0 -1)},\n",
    "$$\n",
    "\n",
    "$$\n",
    "\\quad \\quad \\, \\, \\, \\, \\quad = \\frac{Z e^{-\\beta V(x_0 + 1)}}{Z e^{-\\beta V(x_0)} + Z e^{-\\beta V(x_0 + 1)} + Z e^{-\\beta V(x_0 - 1)}},\n",
    "$$\n",
    "\n",
    "which can be simplified to\n",
    "\n",
    "$$\n",
    "p^+ = \\frac{1}{1 + e^{-\\beta [V(x_0) - V(x_0+1)]} + e^{-\\beta [V(x_0 - 1)-V(x_0+1)]}}.\n",
    "$$\n",
    "\n",
    "Similarly, we have the probailities of staying put, $p^0$, and moving one step to the left, $p^-$ given by\n",
    "\n",
    "$$\n",
    "p^0 = \\frac{1}{1 + e^{-\\beta [V(x_0+1) - V(x_0)]} + e^{-\\beta [V(x_0 - 1)-V(x_0)]}}.\n",
    "$$\n",
    "\n",
    "$$\n",
    "p^- = \\frac{1}{1 + e^{-\\beta [V(x_0) - V(x_0-1)]} + e^{-\\beta [V(x_0 + 1)-V(x_0-1)]}},\n",
    "$$\n"
   ]
  },
  {
   "cell_type": "markdown",
   "metadata": {},
   "source": [
    "<div class=\"alert alert-block alert-info\">Exercise 3.3</div>\n",
    "\n",
    "CASE 1:\n",
    "\n",
    "If $k_B T \\gg |V(x+1)-V(x)|$, the term $p^0$ simplifies to\n",
    "\n",
    "$$\n",
    "p^0=\\frac{1}{1+e^0+e^0}=\\frac13\n",
    "$$\n",
    "\n",
<<<<<<< HEAD
    "Similarly, $p^+$ and $p^-$ simplifies to $\\frac13$ in a similar way\n",
    "\n",
    "\n",
    "CASE 2:\n",
    "\n",
    "If $k_B T \\ll |V(x+1)-V(x)|$, the term $p^0$ simplifies to\n",
    "\n",
    "$$\n",
    "p^0 = \\frac{1}{1+e^{-\\infty}+e^{-\\infty}} = 1\n",
=======
    "Similarly, the last term of the divisor of $P^+$ and $p^-$ also simplifies to $e^0=1$. As such, the terms become\n",
    "\n",
    "$$\n",
    "p^+=\\frac{1}{2+\\exp\\left(-\\beta\\, [V(x_0-1)-V(x_0+1)]\\right)}\n",
    "$$\n",
    "$$\n",
    "p^-=\\frac{1}{2+\\exp\\left(-\\beta\\, [V(x_0+1)-V(x_0-1)]\\right)}\n",
    "$$\n",
    "\n",
    "\n",
    "Algebraically, one can see what happens with the latter condition:\n",
    "\n",
    "$$\n",
    "k_B T \\ll |V(x+1)-V(x)| \\forall x \\Rightarrow \\left\\{exp(-\\beta \\, [V(x_0-1)-V(x_0)], exp(-\\beta\\,[V(x_0+1)-V(x_0)] \\right\\} \\rightarrow 0\n",
    "$$\n",
    "\n",
    "$$\n",
    "\\therefore p^0 \\rightarrow 1 \\\\\n",
    "\\sum_{+, 0, -} p^i = 1 \\Leftrightarrow p^+, p^- \\rightarrow 0\n",
>>>>>>> 09936c2c490ce506fdd00a2d9997edda99c3f190
    "$$"
   ]
  },
  {
   "cell_type": "markdown",
   "metadata": {},
   "source": [
    "which can also be proven by the following set of arguments (first looking at $p^+$)\n",
    "\n",
    "$$\n",
    "e^{- \\beta\\, [V(x)-V(x+1)]} \\rightarrow 0 \\quad \\therefore \\, p^+ = \n",
    "$$"
   ]
  }
 ],
 "metadata": {
  "kernelspec": {
   "display_name": "Python 3",
   "language": "python",
   "name": "python3"
  },
  "language_info": {
   "codemirror_mode": {
    "name": "ipython",
    "version": 3
   },
   "file_extension": ".py",
   "mimetype": "text/x-python",
   "name": "python",
   "nbconvert_exporter": "python",
   "pygments_lexer": "ipython3",
   "version": "3.7.1"
  }
 },
 "nbformat": 4,
 "nbformat_minor": 2
}
