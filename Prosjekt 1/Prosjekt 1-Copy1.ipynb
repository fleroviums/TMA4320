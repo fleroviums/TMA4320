{
 "cells": [
  {
   "cell_type": "markdown",
   "metadata": {},
   "source": [
    "# Project 1\n",
    "## Modelling motor proteins as particles diffusing in parallel potentials\n",
    "### Abnar, S., Nilsen F., Rødde, M."
   ]
  },
  {
   "cell_type": "markdown",
   "metadata": {},
   "source": [
    "# 3. Exercises\n",
    "\n",
    "<div class=\"alert alert-block alert-info\">Exercise 3.1</div>\n",
    "\n",
    "Showing that (1)\n",
    "\n",
    "$$\n",
    "\\phi(x,t)=\\frac{1}{\\sqrt{4\\pi Dt}} \\int_{-\\infty}^\\infty \\mathrm{d}y \\, h(y)e^{-\\frac{(x-y)^2}{4Dt}}\n",
    "$$\n",
    "\n",
    "is a solution of the diffusion equation (2)\n",
    "\n",
    "$$\n",
    "\\frac{\\partial \\phi(x,t)}{\\partial t} =  D \\frac{\\partial^2 \\phi(x,t)}{\\partial x^2}\n",
    "$$"
   ]
  },
  {
   "cell_type": "markdown",
   "metadata": {},
   "source": []
  },
  {
   "cell_type": "markdown",
   "metadata": {},
   "source": [
    "Differentiating (1) with respect to time $t$\n",
    "\n",
    "$$\n",
    "\\frac{ \\partial \\phi(x,t)}{\\partial t} = \\frac{ \\partial}{\\partial t} \\left[\\frac{1}{\\sqrt{4\\pi Dt}} \\int_{\\text{-}\\infty}^\\infty \\mathrm{d}y \\, h(y)e^{\\,\\text{-}\\frac{(x-y)^2}{4Dt}} \\right]\n",
    "$$\n",
    "\n",
    "where  $\\left(4\\pi D\\right)^{\\,\\text{-}1/2}$ and $h(y)$ is independent of time. We simplify to\n",
    "\n",
    "$$\n",
    "\\frac{ \\partial \\phi(x,t)}{\\partial t} = \\frac{ \\partial}{\\partial t} \\left[\\frac{1}{\\sqrt{t}} e^{\\,\\text{-}\\frac{(x-y)^2}{4Dt}} \\right]  \\int_{\\text{-}\\infty}^\\infty \\mathrm{d}y \\, \\frac{1}{\\sqrt{4\\pi D}}\\, h(y)\n",
    "$$\n",
    "\n",
    "and can hereby use product rule of derivation. We define\n",
    "\n",
    "$$\n",
    "u \\equiv \\frac{1}{\\sqrt{t}},\n",
    "$$\n",
    "\n",
    "$$\n",
    "v \\equiv e^{\\text{-} \\frac{(x-y)^2}{4Dt}},\n",
    "$$\n",
    "\n",
    "and\n",
    "\n",
    "$$\n",
    "A \\equiv \\int_{\\text{-}\\infty}^\\infty \\mathrm{d}y \\, \\frac{1}{\\sqrt{4\\pi D}} \\, h(y),\n",
    "$$\n",
    "\n",
    "Where $A$ is independent of time. Thus, the derivation simplifies to\n",
    "\n",
    "$$\n",
    "\\frac{ \\partial \\phi(x,t)}{\\partial t} = \\, \\left[ \\frac{\\partial u}{\\partial t} v \\, + \\, \\frac{\\partial v}{\\partial t} u \\right] \\cdot A\n",
    "$$\n",
    "\n",
    "with the following solutions\n",
    "\n",
    "$$\n",
    "\\frac{\\partial u}{\\partial t} = \\frac{\\text{-}1}{2 \\, t^{\\,3/2}},\n",
    "$$\n",
    "\n",
    "$$\n",
    "\\frac{\\partial v}{\\partial t} = \\frac{(x-y)^2}{4Dt^2} e^{\\,\\text{-}\\frac{(x-y)^2}{4Dt}}\n",
    "$$\n",
    "\n",
    "Thus, we have obtained the following expression for the substance distribution differentiated with respect to time\n",
    "\n",
    "$$\n",
    "\\frac{ \\partial \\phi(x,t)}{\\partial t} = \\,   \\left[ \\frac{\\text{-}1}{2 \\, t^{\\,3/2}} e^{\\text{-} \\frac{(x-y)^2}{4Dt}} \\, + \\, \\frac{(x-y)^2}{4Dt^2} e^{\\,\\text{-}\\frac{(x-y)^2}{4Dt}} \\frac{1}{\\sqrt{t}} \\right] \\cdot  \\,A\n",
    "$$\n",
    "\n",
    "which can be simplified to\n",
    "\n",
    "$$\n",
    "\\frac{ \\partial \\phi(x,t)}{\\partial t} = \\, \\left(\\frac{(x-y)^2}{4Dt^2}  \\, + \\, \\frac{\\text{-}1}{2 t}  \\right) e^{\\,\\text{-}\\frac{(x-y)^2}{4Dt}} \\, \\int_{\\text{-}\\infty}^\\infty \\mathrm{d}y\\,\\frac{1}{\\sqrt{4\\pi Dt}} \\, h(y)\n",
    "$$\n",
    "\n",
    "\n",
    "\n",
    "The term of the second derivative of the distribution with respect to position similarly becomes\n",
    "\n",
    "$$\n",
    "D \\frac{\\partial^2 \\phi(x,t)}{\\partial x^2} = \\frac{1}{4Dt^2} \\left( \\left(x-y\\right)^2 - 2Dt \\right) e^{\\text{-}\\frac{(x-y)^2}{4Dt}} \\int_{\\text{-}\\infty}^\\infty \\mathrm{d}y\\,\\frac{1}{\\sqrt{4\\pi Dt}} \\, h(y)\n",
    "$$\n",
    "\n",
    "and the equation is a solution."
   ]
  },
  {
   "cell_type": "markdown",
   "metadata": {},
   "source": [
    "<div class=\"alert alert-block alert-info\">Exercise 3.2</div>\n",
    "\n",
    "We have the probability of finding a particle at position $x$ in a potential landscape $V(x)$ given by\n",
    "\n",
    "$$\n",
    "P(x) = Z e^{-\\beta V(x)}, \n",
    "$$\n",
    "\n",
    "and hereby find the probability of moving one step to the right $p^+$\n",
    "\n",
    "$$\n",
    "p^+ = \\frac{P(x_0 + 1)}{P(x_0) + P(x_0 + 1) + P(x_0 -1)},\n",
    "$$\n",
    "\n",
    "$$\n",
    "\\quad \\quad \\, \\, \\, \\, \\quad = \\frac{Z e^{-\\beta V(x_0 + 1)}}{Z e^{-\\beta V(x_0)} + Z e^{-\\beta V(x_0 + 1)} + Z e^{-\\beta V(x_0 - 1)}},\n",
    "$$\n",
    "\n",
    "which can be simplified to\n",
    "\n",
    "$$\n",
    "p^+ = \\frac{1}{1 + e^{-\\beta [V(x_0) - V(x_0+1)]} + e^{-\\beta [V(x_0 - 1)-V(x_0+1)]}}.\n",
    "$$\n",
    "\n",
    "Similarly, we have the probailities of staying put, $p^0$, and moving one step to the left, $p^-$ given by\n",
    "\n",
    "$$\n",
    "p^0 = \\frac{1}{1 + e^{-\\beta [V(x_0+1) - V(x_0)]} + e^{-\\beta [V(x_0 - 1)-V(x_0)]}}.\n",
    "$$\n",
    "\n",
    "$$\n",
    "p^- = \\frac{1}{1 + e^{-\\beta [V(x_0) - V(x_0-1)]} + e^{-\\beta [V(x_0 + 1)-V(x_0-1)]}},\n",
    "$$\n"
   ]
  },
  {
   "cell_type": "markdown",
   "metadata": {},
   "source": [
    "<div class=\"alert alert-block alert-info\">Exercise 3.3</div>\n",
    "\n",
    "By first exploring the latter condition, $k_B T \\ll |V(x+1)-V(x)| \\forall x$,\n",
    "\n",
    "$$\n",
    "\\Rightarrow \\left\\{exp(-\\beta \\, [V(x_0-1)-V(x_0)], exp(-\\beta\\,[V(x_0+1)-V(x_0)] \\right\\} \\rightarrow 0\n",
    "$$\n",
    "\n",
    "$$\n",
    "\\therefore p^0 \\rightarrow 1 \\\\\n",
    "\\sum_{+, 0, -} p^i = 1 \\Leftrightarrow p^+, p^- \\rightarrow 0\n",
    "$$"
   ]
  },
  {
   "cell_type": "markdown",
   "metadata": {},
   "source": [
    "which can also be proven by the following set of arguments (first looking at $p^+$)\n",
    "\n",
    "$$\n",
    "\\left. e^{\\, \\text{-} \\beta\\, [V(x)-V(x+1)]} \\rightarrow 0 \\quad \\therefore \\,\\, p^+ = \\frac{1}{1 + e^{-\\beta\\, [V(x) - V(x+1)]}}\\,\\, \\right\\vert \\, \\cdot \\frac{e^{-\\,\\beta\\,V(x-1)}}{e^{\\, \\text{-}\\,\\beta\\,V(x-1)}}\n",
    "$$\n",
    "\n",
    "$$\n",
    "\\left. = \\frac{e^{\\,\\text{-}\\beta\\,V(x-1)}}{1 + e^{\\,\\text{-}\\beta\\, [V(x) - V(x+1)]}}\\,\\, \\right\\vert \\, \\cdot \\frac{e^{\\,\\text{-}\\beta\\,V(x-1)}}{e^{\\,\\text{-}\\beta\\,V(x-1)}}\n",
    "$$\n",
    "\n",
    "$$\n",
    "\\Rightarrow \\frac{e^{\\, \\text{-}\\beta[V(x)-V(x-1)]}}{e^{\\, \\text{-}\\beta[V(x)-V(x-1)}+e^{,\\ \\text{-}\\beta [V(x)-V(x+1)]}}= \\frac{e^{\\, \\text{-}\\beta[V(x)-V(x-1)]}}{e^{\\, \\text{-}\\beta[V(x)-V(x-1)}+e^{\\beta [V(x+1)-V(x)]}}=\\frac{1}{\\infty} \\rightarrow 0\n",
    "$$"
   ]
  },
  {
   "cell_type": "markdown",
   "metadata": {},
   "source": [
    "**When $k_B t \\gg [V(x+1)-V(x)]$**:\n",
    "\n",
    "$$\n",
    "p^0=\\frac{1}{1+e^0+e^0}=\\frac13\n",
    "$$\n",
    "\n",
    "$$\n",
    "\\left. p^+ =\\frac{1}{2+e^{\\, \\text{-}\\beta [V(x-1)-V(x+1)]}} \\right\\vert \\, \\cdot \\frac{e^{\\, \\text{-}\\beta V(x)}}{e^{\\, \\text{-}\\beta V(x)}}\\\\\n",
    " p^+=\\frac{e^{\\, \\text{-}\\beta V(x)}}{2e^{\\, \\text{-}\\beta V(x)}+e^{\\, \\text{-}\\beta[V(x-1)+V(x)-V(x+1)]}}=\\frac{e^{\\, \\text{-}\\beta [V(x)-V(x-1)]}}{2e^{\\, \\text{-}\\beta [V(x)-V(x-1)]}+e^{\\, \\text{-}\\beta [V(x)-V(x+1)]}}\n",
    "$$\n",
    "\n",
    "$$\n",
    "=\\frac{e^{\\, \\text{-}\\beta [V(x)-V(x-1)]}}{2e^{\\, \\text{-}\\beta [V(x)-V(x-1)]}+e^{\\beta [V(x+1)-V(x)]}}=\\frac13\n",
    "$$"
   ]
  },
  {
   "cell_type": "markdown",
   "metadata": {},
   "source": [
    "<div class=\"alert alert-block alert-info\">Exercise 4</div>"
   ]
  },
  {
   "cell_type": "code",
   "execution_count": 19,
   "metadata": {},
   "outputs": [
    {
     "name": "stdout",
     "output_type": "stream",
     "text": [
      "(2, 198, 0)\n"
     ]
    }
   ],
   "source": [
    "import random\n",
    "import math\n",
    "\n",
    "particles = 1000\n",
    "beta = 1/(1.3806505*10**(-23)*293) #1/k_b*T\n",
    "k = 100/beta\n",
    "\n",
    "def V(x):\n",
    "    return k\n",
    "\n",
    "def p_minus(x):\n",
    "    return 1/(1 + math.exp(-beta*(V(x+1)-V(x-1)))+math.exp(-beta*(V(x)-V(x-1))))\n",
    "\n",
    "def p_null(x):\n",
    "    return 1/(1 + math.exp(-beta*(V(x-1)-V(x)))+math.exp(-beta*(V(x+1)-V(x))))\n",
    "\n",
    "def p_pluss(x):\n",
    "    return 1/(1 + math.exp(-beta*(V(x-1)-V(x+1)))+math.exp(-beta*(V(x)-V(x+1))))\n",
    "\n",
    "\n",
    "\n",
    "def rand_walk():\n",
    "    left = 0\n",
    "    right = 0\n",
    "    stay_put = 0\n",
    "    for i in range(0,200):\n",
    "        rand_num = random.randint(0,100)\n",
    "        if rand_num <= p_minus(rand_num/100):\n",
    "            left+=1\n",
    "        elif rand_num > (1-p_pluss(rand_num/100)):\n",
    "            right+=1\n",
    "        else:\n",
    "            stay_put+=1\n",
    "    return left, right, stay_put\n",
    "\n",
    "\n",
    "        \n",
    "\n",
    "print(rand_walk())\n",
    "\n",
    "\n",
    "\n"
   ]
  },
  {
   "cell_type": "code",
   "execution_count": null,
   "metadata": {},
   "outputs": [],
   "source": []
  },
  {
   "cell_type": "code",
   "execution_count": null,
   "metadata": {},
   "outputs": [],
   "source": []
  }
 ],
 "metadata": {
  "kernelspec": {
   "display_name": "Python 3",
   "language": "python",
   "name": "python3"
  },
  "language_info": {
   "codemirror_mode": {
    "name": "ipython",
    "version": 3
   },
   "file_extension": ".py",
   "mimetype": "text/x-python",
   "name": "python",
   "nbconvert_exporter": "python",
   "pygments_lexer": "ipython3",
   "version": "3.7.1"
  }
 },
 "nbformat": 4,
 "nbformat_minor": 2
}
