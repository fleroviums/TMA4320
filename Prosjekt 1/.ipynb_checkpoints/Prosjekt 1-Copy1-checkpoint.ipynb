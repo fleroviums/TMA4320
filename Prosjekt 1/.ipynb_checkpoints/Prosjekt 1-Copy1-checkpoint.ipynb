{
 "cells": [
  {
   "cell_type": "markdown",
   "metadata": {},
   "source": [
    "# Project 1\n",
    "## Modelling motor proteins as particles diffusing in parallel potentials\n",
    "### Abnar, S., Nilsen F., Rødde, M."
   ]
  },
  {
   "cell_type": "markdown",
   "metadata": {},
   "source": [
    "# 3. Exercises\n",
    "\n",
    "<div class=\"alert alert-block alert-info\">Exercise 3.1</div>\n",
    "\n",
    "Showing that (1)\n",
    "\n",
    "$$\n",
    "\\phi(x,t)=\\frac{1}{\\sqrt{4\\pi Dt}} \\int_{-\\infty}^\\infty \\mathrm{d}y \\, h(y)e^{-\\frac{(x-y)^2}{4Dt}}\n",
    "$$\n",
    "\n",
    "is a solution of the diffusion equation (2)\n",
    "\n",
    "$$\n",
    "\\frac{\\partial \\phi(x,t)}{\\partial t} =  D \\frac{\\partial^2 \\phi(x,t)}{\\partial x^2}\n",
    "$$"
   ]
  },
  {
   "cell_type": "markdown",
   "metadata": {},
   "source": []
  },
  {
   "cell_type": "markdown",
   "metadata": {},
   "source": [
    "Differentiating (1) with respect to time $t$\n",
    "\n",
    "$$\n",
    "\\frac{ \\partial \\phi(x,t)}{\\partial t} = \\frac{ \\partial}{\\partial t} \\left[\\frac{1}{\\sqrt{4\\pi Dt}} \\int_{\\text{-}\\infty}^\\infty \\mathrm{d}y \\, h(y)e^{\\,\\text{-}\\frac{(x-y)^2}{4Dt}} \\right]\n",
    "$$\n",
    "\n",
    "where  $\\left(4\\pi D\\right)^{\\,\\text{-}1/2}$ and $h(y)$ is independent of time. We simplify to\n",
    "\n",
    "$$\n",
    "\\frac{ \\partial \\phi(x,t)}{\\partial t} = \\frac{ \\partial}{\\partial t} \\left[\\frac{1}{\\sqrt{t}} e^{\\,\\text{-}\\frac{(x-y)^2}{4Dt}} \\right]  \\int_{\\text{-}\\infty}^\\infty \\mathrm{d}y \\, \\frac{1}{\\sqrt{4\\pi D}}\\, h(y)\n",
    "$$\n",
    "\n",
    "and can hereby use product rule of derivation. We define\n",
    "\n",
    "$$\n",
    "u \\equiv \\frac{1}{\\sqrt{t}},\n",
    "$$\n",
    "\n",
    "$$\n",
    "v \\equiv e^{\\text{-} \\frac{(x-y)^2}{4Dt}},\n",
    "$$\n",
    "\n",
    "and\n",
    "\n",
    "$$\n",
    "A \\equiv \\int_{\\text{-}\\infty}^\\infty \\mathrm{d}y \\, \\frac{1}{\\sqrt{4\\pi D}} \\, h(y),\n",
    "$$\n",
    "\n",
    "Where $A$ is independent of time. Thus, the derivation simplifies to\n",
    "\n",
    "$$\n",
    "\\frac{ \\partial \\phi(x,t)}{\\partial t} = \\, \\left[ \\frac{\\partial u}{\\partial t} v \\, + \\, \\frac{\\partial v}{\\partial t} u \\right] \\cdot A\n",
    "$$\n",
    "\n",
    "with the following solutions\n",
    "\n",
    "$$\n",
    "\\frac{\\partial u}{\\partial t} = \\frac{\\text{-}1}{2 \\, t^{\\,3/2}},\n",
    "$$\n",
    "\n",
    "$$\n",
    "\\frac{\\partial v}{\\partial t} = \\frac{(x-y)^2}{4Dt^2} e^{\\,\\text{-}\\frac{(x-y)^2}{4Dt}}\n",
    "$$\n",
    "\n",
    "Thus, we have obtained the following expression for the substance distribution differentiated with respect to time\n",
    "\n",
    "$$\n",
    "\\frac{ \\partial \\phi(x,t)}{\\partial t} = \\,   \\left[ \\frac{\\text{-}1}{2 \\, t^{\\,3/2}} e^{\\text{-} \\frac{(x-y)^2}{4Dt}} \\, + \\, \\frac{(x-y)^2}{4Dt^2} e^{\\,\\text{-}\\frac{(x-y)^2}{4Dt}} \\frac{1}{\\sqrt{t}} \\right] \\cdot  \\,A\n",
    "$$\n",
    "\n",
    "which can be simplified to\n",
    "\n",
    "$$\n",
    "\\frac{ \\partial \\phi(x,t)}{\\partial t} = \\, \\left(\\frac{(x-y)^2}{4Dt^2}  \\, + \\, \\frac{\\text{-}1}{2 t}  \\right) e^{\\,\\text{-}\\frac{(x-y)^2}{4Dt}} \\, \\int_{\\text{-}\\infty}^\\infty \\mathrm{d}y\\,\\frac{1}{\\sqrt{4\\pi Dt}} \\, h(y)\n",
    "$$\n",
    "\n",
    "\n",
    "\n",
    "The term of the second derivative of the distribution with respect to position similarly becomes\n",
    "\n",
    "$$\n",
    "D \\frac{\\partial^2 \\phi(x,t)}{\\partial x^2} = \\frac{1}{4Dt^2} \\left( \\left(x-y\\right)^2 - 2Dt \\right) e^{\\text{-}\\frac{(x-y)^2}{4Dt}} \\int_{\\text{-}\\infty}^\\infty \\mathrm{d}y\\,\\frac{1}{\\sqrt{4\\pi Dt}} \\, h(y)\n",
    "$$\n",
    "\n",
    "and the equation is a solution."
   ]
  },
  {
   "cell_type": "markdown",
   "metadata": {},
   "source": [
    "<div class=\"alert alert-block alert-info\">Exercise 3.2</div>\n",
    "\n",
    "We have the probability of finding a particle at position $x$ in a potential landscape $V(x)$ given by\n",
    "\n",
    "$$\n",
    "P(x) = Z e^{-\\beta V(x)}, \n",
    "$$\n",
    "\n",
    "and hereby find the probability of moving one step to the right $p^+$\n",
    "\n",
    "$$\n",
    "p^+ = \\frac{P(x_0 + 1)}{P(x_0) + P(x_0 + 1) + P(x_0 -1)},\n",
    "$$\n",
    "\n",
    "$$\n",
    "\\quad \\quad \\, \\, \\, \\, \\quad = \\frac{Z e^{-\\beta V(x_0 + 1)}}{Z e^{-\\beta V(x_0)} + Z e^{-\\beta V(x_0 + 1)} + Z e^{-\\beta V(x_0 - 1)}},\n",
    "$$\n",
    "\n",
    "which can be simplified to\n",
    "\n",
    "$$\n",
    "p^+ = \\frac{1}{1 + e^{-\\beta [V(x_0) - V(x_0+1)]} + e^{-\\beta [V(x_0 - 1)-V(x_0+1)]}}.\n",
    "$$\n",
    "\n",
    "Similarly, we have the probailities of staying put, $p^0$, and moving one step to the left, $p^-$ given by\n",
    "\n",
    "$$\n",
    "p^0 = \\frac{1}{1 + e^{-\\beta [V(x_0+1) - V(x_0)]} + e^{-\\beta [V(x_0 - 1)-V(x_0)]}}.\n",
    "$$\n",
    "\n",
    "$$\n",
    "p^- = \\frac{1}{1 + e^{-\\beta [V(x_0) - V(x_0-1)]} + e^{-\\beta [V(x_0 + 1)-V(x_0-1)]}},\n",
    "$$\n"
   ]
  },
  {
   "cell_type": "markdown",
   "metadata": {},
   "source": [
    "<div class=\"alert alert-block alert-info\">Exercise 3.3</div>\n",
    "\n",
    "By first exploring the latter condition, $k_B T \\ll |V(x+1)-V(x)| \\forall x$,\n",
    "\n",
    "$$\n",
    "\\Rightarrow \\left\\{exp(-\\beta \\, [V(x_0-1)-V(x_0)], exp(-\\beta\\,[V(x_0+1)-V(x_0)] \\right\\} \\rightarrow 0\n",
    "$$\n",
    "\n",
    "$$\n",
    "\\therefore p^0 \\rightarrow 1 \\\\\n",
    "\\sum_{+, 0, -} p^i = 1 \\Leftrightarrow p^+, p^- \\rightarrow 0\n",
    "$$"
   ]
  },
  {
   "cell_type": "markdown",
   "metadata": {},
   "source": [
    "which can also be proven by the following set of arguments (first looking at $p^+$)\n",
    "\n",
    "$$\n",
    "\\left. e^{\\, \\text{-} \\beta\\, [V(x)-V(x+1)]} \\rightarrow 0 \\quad \\therefore \\,\\, p^+ = \\frac{1}{1 + e^{-\\beta\\, [V(x) - V(x+1)]}}\\,\\, \\right\\vert \\, \\cdot \\frac{e^{-\\,\\beta\\,V(x-1)}}{e^{\\, \\text{-}\\,\\beta\\,V(x-1)}}\n",
    "$$\n",
    "\n",
    "$$\n",
    "\\left. = \\frac{e^{\\,\\text{-}\\beta\\,V(x-1)}}{1 + e^{\\,\\text{-}\\beta\\, [V(x) - V(x+1)]}}\\,\\, \\right\\vert \\, \\cdot \\frac{e^{\\,\\text{-}\\beta\\,V(x-1)}}{e^{\\,\\text{-}\\beta\\,V(x-1)}}\n",
    "$$\n",
    "\n",
    "$$\n",
    "\\Rightarrow \\frac{e^{\\, \\text{-}\\beta[V(x)-V(x-1)]}}{e^{\\, \\text{-}\\beta[V(x)-V(x-1)}+e^{,\\ \\text{-}\\beta [V(x)-V(x+1)]}}= \\frac{e^{\\, \\text{-}\\beta[V(x)-V(x-1)]}}{e^{\\, \\text{-}\\beta[V(x)-V(x-1)}+e^{\\beta [V(x+1)-V(x)]}}=\\frac{1}{\\infty} \\rightarrow 0\n",
    "$$"
   ]
  },
  {
   "cell_type": "markdown",
   "metadata": {},
   "source": [
    "**When $k_B t \\gg [V(x+1)-V(x)]$**:\n",
    "\n",
    "$$\n",
    "p^0=\\frac{1}{1+e^0+e^0}=\\frac13\n",
    "$$\n",
    "\n",
    "$$\n",
    "\\left. p^+ =\\frac{1}{2+e^{\\, \\text{-}\\beta [V(x-1)-V(x+1)]}} \\right\\vert \\, \\cdot \\frac{e^{\\, \\text{-}\\beta V(x)}}{e^{\\, \\text{-}\\beta V(x)}}\\\\\n",
    " p^+=\\frac{e^{\\, \\text{-}\\beta V(x)}}{2e^{\\, \\text{-}\\beta V(x)}+e^{\\, \\text{-}\\beta[V(x-1)+V(x)-V(x+1)]}}=\\frac{e^{\\, \\text{-}\\beta [V(x)-V(x-1)]}}{2e^{\\, \\text{-}\\beta [V(x)-V(x-1)]}+e^{\\, \\text{-}\\beta [V(x)-V(x+1)]}}\n",
    "$$\n",
    "\n",
    "$$\n",
    "=\\frac{e^{\\, \\text{-}\\beta [V(x)-V(x-1)]}}{2e^{\\, \\text{-}\\beta [V(x)-V(x-1)]}+e^{\\beta [V(x+1)-V(x)]}}=\\frac13\n",
    "$$"
   ]
  },
  {
   "cell_type": "markdown",
   "metadata": {},
   "source": [
    "<div class=\"alert alert-block alert-info\">Exercise 4</div>"
   ]
  },
  {
   "cell_type": "code",
   "execution_count": 2,
   "metadata": {},
   "outputs": [],
   "source": [
    "import random\n",
    "import math\n",
    "import numpy as np\n",
    "import matplotlib.pyplot as plt\n",
    "import scipy as sp\n",
    "\n",
    "particles = 10000\n",
    "beta = 1/(1.38064852*10**(-23)*298)\n",
    "kb = [0.01, 1, 100] #k * beta\n",
    "\n",
    "def p_minus(x):\n",
    "    return 1/(1 + math.exp(-beta*(V(x+1)-V(x-1)))+math.exp(-beta*(V(x)-V(x-1))))\n",
    "\n",
    "def p_zero(x):\n",
    "        return 1/(1 + math.exp(-beta*(V(x-1)-V(x)))+math.exp(-beta*(V(x+1)-V(x))))\n",
    "\n",
    "def p_plus(x):\n",
    "    return 1/(1 + math.exp(-beta*(V(x-1)-V(x+1)))+math.exp(-beta*(V(x)-V(x+1))))\n",
    "\n",
    "def rand_walk():\n",
    "    x = 0 #Start at x0\n",
    "    for i in range(0,200):\n",
    "        rNum = random.randint(0,100) #Want a random 0.(two digit integer) from 0-1\n",
    "        if (rNum/100) <= p_minus(x):\n",
    "            x-=1 #Move 1 step to the left\n",
    "        elif (rNum/100) > (1-p_plus(x)):\n",
    "            x+=1 #Move 1 step to the right\n",
    "        else:\n",
    "            x+=0 #Does nothing but for readability\n",
    "    return x"
   ]
  },
  {
   "cell_type": "code",
   "execution_count": 3,
   "metadata": {},
   "outputs": [
    {
     "data": {
      "image/png": "[encoded data removed]",
      "text/plain": [
       "<Figure size 432x288 with 1 Axes>"
      ]
     },
     "metadata": {
      "needs_background": "light"
     },
     "output_type": "display_data"
    },
    {
     "data": {
      "image/png": "[encoded data removed]",
      "text/plain": [
       "<Figure size 432x288 with 1 Axes>"
      ]
     },
     "metadata": {
      "needs_background": "light"
     },
     "output_type": "display_data"
    },
    {
     "data": {
      "image/png": "[encoded data removed]",
      "text/plain": [
       "<Figure size 432x288 with 1 Axes>"
      ]
     },
     "metadata": {
      "needs_background": "light"
     },
     "output_type": "display_data"
    }
   ],
   "source": [
    "#4.1 - constant V NOTE: Run cell over before running this\n",
    "from scipy.stats import norm\n",
    "def V(x):\n",
    "    return k #Defining the constant below this function\n",
    "k = kb[0]/beta\n",
    "xvals = np.zeros(10000) #Liste (array) med alle x-verdier fra rand_walk function\n",
    "for i in range(int(particles)):\n",
    "    xvals[i] = rand_walk()\n",
    "\n",
    "x = np.linspace(-200,200,10000)\n",
    "mu, std = norm.fit(xvals)\n",
    "p = norm.pdf(x, mu, std)\n",
    "plt.plot(x, p, 'k')\n",
    "plt.title(\"Konstant V, kb=0.01\")\n",
    "plt.show()\n",
    "\n",
    "#kb=1\n",
    "k = kb[1]/beta\n",
    "for i in range(int(particles)):\n",
    "    xvals[i] = rand_walk()\n",
    "\n",
    "mu, std = norm.fit(xvals)\n",
    "p = norm.pdf(x, mu, std)\n",
    "plt.plot(x, p, 'k')\n",
    "plt.title(\"Konstant V, kb=1\")\n",
    "plt.show()\n",
    "\n",
    "k = kb[2]/beta\n",
    "for i in range(int(particles)):\n",
    "    xvals[i] = rand_walk()\n",
    "\n",
    "mu, std = norm.fit(xvals)\n",
    "p = norm.pdf(x, mu, std)\n",
    "plt.plot(x, p, 'k')\n",
    "plt.title(\"Konstant V, kb=100\")\n",
    "plt.show()"
   ]
  },
  {
   "cell_type": "markdown",
   "metadata": {},
   "source": [
    "#heisannsveisan :)"
   ]
  }
 ],
 "metadata": {
  "kernelspec": {
   "display_name": "Python 3",
   "language": "python",
   "name": "python3"
  },
  "language_info": {
   "codemirror_mode": {
    "name": "ipython",
    "version": 3
   },
   "file_extension": ".py",
   "mimetype": "text/x-python",
   "name": "python",
   "nbconvert_exporter": "python",
   "pygments_lexer": "ipython3",
   "version": "3.7.1"
  }
 },
 "nbformat": 4,
 "nbformat_minor": 2
}
