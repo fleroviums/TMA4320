{
 "cells": [
  {
   "cell_type": "code",
   "execution_count": null,
   "metadata": {},
   "outputs": [],
   "source": [
    "\n",
    "    a = 0.8 #alpha\\n\"\n",
    "    N_x = 90 #steps per potential period\\n\"\n",
    "    bk = 1000 #beta*k\\n\"\n",
    "    N_p = 12*N_x\n",
    "    k = 10\n",
    "\n",
    "    def V_1a(x):\n",
    "        return k*x/(a*N_x)  #0<x<=aN_x ---- 0<=a<=1\n",
    "\n",
    "    def V_1b(x):\n",
    "        return -k*x/((1-a)*N_x) #-(1-a)*N_x<x<=0\n",
    "\n",
    "    def V_2(x):\n",
    "        return 10*x #constant function of x\n",
    "   \n",
    "    #normalized particle current\n",
    "    #J(t_i) = (n_pluss(t_i)-n_minud(t_i))/N_p \n",
    "    #n_pluss(t_i) = number of particles moving to the right on the time interval (t_i − t_i−1)\n",
    "    #n_minus(t_i) is the number of particles moving to the left\n",
    "    #N_p = number of particles in the system\n",
    "\n",
    "    #x = np.linspace(0,2*N_x,10000)\n",
    "    T_p0 = 1\n",
    "    T_p1 = 500\n",
    "    cycles = 10\n",
    "    x = np.zeros(T_p1*2*cycles)\n",
    "    endPoint = 500\n",
    "    for i in range(T_p0,T_p1*2*cycles+1):\n",
    "    if endPoint%1000 != 0:\n",
    "        V(x) = V_1a(x) #Definerer potensialet partiklene befinner seg i\n",
    "        x[i] += rand_walk() #Skal være i V1\n",
    "    elif i%500 == 0:\n",
    "        endPoint += 500\n",
    "    else:\n",
    "        V(x) = V_2(x) #Definerer potensialet partiklene befinner seg i\n",
    "        x[i] += rand_walk() #Skal være i V2\n",
    "    "
   ]
  }
 ],
 "metadata": {
  "kernelspec": {
   "display_name": "Python 3",
   "language": "python",
   "name": "python3"
  },
  "language_info": {
   "codemirror_mode": {
    "name": "ipython",
    "version": 3
   },
   "file_extension": ".py",
   "mimetype": "text/x-python",
   "name": "python",
   "nbconvert_exporter": "python",
   "pygments_lexer": "ipython3",
   "version": "3.7.1"
  }
 },
 "nbformat": 4,
 "nbformat_minor": 2
}
