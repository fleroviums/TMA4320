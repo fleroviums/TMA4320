import random
import math
import numpy as np
import matplotlib.pyplot as plt

b= 1000 #skal man definere denne slik?


def p_pluss5(x,pot):
    return 1/(1 + np.exp(-b*(pot(x+1)-pot(x-1)))+np.exp(-b*(pot(x)-pot(x-1))))

def p_minus5(x,pot):
    return 1/(1 + np.exp(-b*(pot(x-1)-pot(x+1)))+np.exp(-b*(pot(x)-pot(x+1))))

#Sagtann funk.
def V_1(x):
    k=1
    a = 0.8
    N_x = 90
    if x>0:
        if x<a*N_x or x>(2*(-(1-a)*N_x)+a*N_x):
            return k*x/(a*N_x)
        else: 
            return -k*x/((1-a)*N_x)
    elif x<=0:
        return -k*x/((1-a)*N_x)
   
    
#konstant funk. satt til 1
def V_2(x):
    return 1


def time(pot,x):
    left = 0
    right = 0
    h = 1
    N_x = 90
    J=0
    rand_walk = random.random()
    if rand_walk <= p_minus5(x, pot):
        left+=1
        J-=h
        return left, J
    elif rand_walk > (1-p_pluss5(x,pot)):
        right+=1
        J+=h
        return right, J
    else:
        return 0, 0 #riktig?
    
    while x>2*N_x:
        x-=2*N_x
    while x<-(1-a)*N_x:
        x+=2*N_x


def cycle():
    t_inter = 100 #skal være 1000
    cycles = 10
    j_ti = []
    x = 0 #starter i null
    J=0
    N_p=12*1018 #ant partikler 
    position = np.floor(np.linspace(0,180,num=1080,endpoint=False)) #posisjonen til alle partiklene
    for i in range(cycles):
        for h in range(t_inter):
            if t_inter>= 50: #skal være 500
                potential = V_1
            else:
                potential = V_2
            for i in range(1080):
                pos, current = time(potential, position[i]) #int
                position[i]+=pos
                J+=current
        one_cycle = J/N_p 
        j_ti.append(one_cycle) #adding normalized particle current for each cycle
    print(j_ti)

    
#vil den nye posisjonen x lagres for hver iterasjon i denne koden?
cycle()
